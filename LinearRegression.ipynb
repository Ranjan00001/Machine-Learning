{
 "cells": [
  {
   "cell_type": "code",
   "execution_count": 249,
   "metadata": {},
   "outputs": [],
   "source": [
    "# Tutorial on Linear Regression"
   ]
  },
  {
   "cell_type": "markdown",
   "metadata": {},
   "source": [
    "# Linear Regression\n",
    "Supervised learning algorithm where we use input and output data points to find a best fit curve. More generally, we can say that this is, modeling the relationship between input and output data points.\n",
    "\n",
    "Let's take a general linear equation:\n",
    "$$ Y = W\\cdot X + b + \\epsilon $$\n",
    "Here capital letter are being used for representing vectors, while small letters for constants\n",
    "\n",
    "$ X \\implies$ vector correspomding to the set of inputs\n",
    "\n",
    "$ Y \\implies $ vector corresponding to the set of outputs\n",
    "\n",
    "But notice that, we can always break vector $ Y $ into components and finally a constant\n",
    "$$ y = W\\cdot X + b + \\epsilon $$\n",
    "$$ y = W\\cdot X + \\epsilon $$\n",
    "Here dimension of $ X $ will be one more than previous dimension of $ X $\n",
    "\n",
    "Now we have various data points, so\n",
    "$$ y_i = W\\cdot X_i + {\\epsilon}_i $$\n",
    "$$ y_i - W\\cdot X_i = {\\epsilon}_i $$\n",
    "\n",
    "Take summation over $i$ on both side\n",
    "$$ \\sum_{i} (y_i - W\\cdot X_i) = \\sum_{i} {{\\epsilon}_i}$$\n",
    "Hence $$ \\epsilon = \\sum_{i} {y_i - W\\cdot X_i} $$\n",
    "\n",
    "Now a negative error should not nullify a positie error so taking square and let's say this function $ s $ so\n",
    "$$ s = \\sum_{i} (y_i - W\\cdot X_i)^2$$\n",
    "So now we have to minimise $ s $ to get best fit vector $ W $\n",
    "\n",
    "We use partial derivative,\n",
    "$$ \\frac{\\partial s}{\\partial W} = 2\\sum_{i} (y_i - W\\cdot X_i)X_i = 0 $$\n",
    "So, $$ \\sum_{i} (y_i - W\\cdot X_i)X_i = 0 $$\n",
    "$$ \\sum_{i} X_i(y_i - W\\cdot X_i) = 0 $$\n",
    "$$ \\sum_{i} X_i(y_i - X_i^\\intercal W) = 0 $$\n",
    "$$ \\sum X_i y_i = \\sum X_i X_i^\\intercal W $$\n",
    "\n",
    "Note that $ X_i X_i^\\intercal $ is a square matrix\n",
    "\n",
    "1) Suppose we could take it's inverse\n",
    "Then $$ W = \\sum (X_i X_i^\\intercal)^{-1} X_i Y_i $$\n",
    "Now calculating this equation we will have answer\n",
    "\n",
    "2) If inverse is not possible : Then we need to use Singular Value Decomposition theorem.\n"
   ]
  },
  {
   "cell_type": "markdown",
   "metadata": {},
   "source": [
    "# Singular Value Decomposition\n",
    "Any real-valued matrix $ A ∈ R^n $ can be represented as the product of three special, not necessary unique matrices,\n",
    "$ A = UDV^\\intercal $. The matrices $ U,V $ are orthonormal and $D$ is a $ m × n $ matrix with only main diagonal non-zero\n",
    "elements.\n",
    "\n",
    "So, $ U\\cdot U^T = 1$, $ V\\cdot V^T = 1$ and $ \\forall i \\neq j : D_{i, j} = 0 $\n"
   ]
  },
  {
   "cell_type": "code",
   "execution_count": 250,
   "metadata": {},
   "outputs": [],
   "source": [
    "import numpy as np\n",
    "import pandas as pd\n",
    "import matplotlib.pyplot as plt\n",
    "import plotly.express as px\n",
    "from mpl_toolkits.mplot3d import Axes3D\n",
    "import autograd.numpy as np\n",
    "import autograd\n",
    "from sklearn.linear_model import LinearRegression\n",
    "from sklearn.model_selection import train_test_split\n",
    "# from sklearn.metrics import mean_squared_error, mean_absolute_error\n",
    "from sklearn.preprocessing import PolynomialFeatures\n",
    "from sklearn.pipeline import make_pipeline\n"
   ]
  },
  {
   "cell_type": "code",
   "execution_count": 319,
   "metadata": {},
   "outputs": [],
   "source": [
    "# Read data set\n",
    "df = pd.read_csv(\"C:\\Documents\\Sem4\\ML\\LAB\\A1\\Data1.csv\")\n",
    "# Merging the constant factor with other coefficients\n",
    "df.insert(loc = 0, column='x0', value=[1 for _ in range(len(df))])\n",
    "df.rename(columns={'x': 'x1'}, inplace=True)\n",
    "# df.drop(columns=\"x0\", inplace=True)\n",
    "# df.to_csv(\"C:\\Documents\\Sem4\\ML\\LAB\\A1\\Data4.csv\", index = False)"
   ]
  },
  {
   "cell_type": "code",
   "execution_count": 252,
   "metadata": {},
   "outputs": [
    {
     "data": {
      "text/html": [
       "<div>\n",
       "<style scoped>\n",
       "    .dataframe tbody tr th:only-of-type {\n",
       "        vertical-align: middle;\n",
       "    }\n",
       "\n",
       "    .dataframe tbody tr th {\n",
       "        vertical-align: top;\n",
       "    }\n",
       "\n",
       "    .dataframe thead th {\n",
       "        text-align: right;\n",
       "    }\n",
       "</style>\n",
       "<table border=\"1\" class=\"dataframe\">\n",
       "  <thead>\n",
       "    <tr style=\"text-align: right;\">\n",
       "      <th></th>\n",
       "      <th>x0</th>\n",
       "      <th>x</th>\n",
       "      <th>y</th>\n",
       "    </tr>\n",
       "  </thead>\n",
       "  <tbody>\n",
       "    <tr>\n",
       "      <th>0</th>\n",
       "      <td>1</td>\n",
       "      <td>0.1</td>\n",
       "      <td>1.159563</td>\n",
       "    </tr>\n",
       "    <tr>\n",
       "      <th>1</th>\n",
       "      <td>1</td>\n",
       "      <td>0.2</td>\n",
       "      <td>1.002381</td>\n",
       "    </tr>\n",
       "    <tr>\n",
       "      <th>2</th>\n",
       "      <td>1</td>\n",
       "      <td>0.3</td>\n",
       "      <td>0.935920</td>\n",
       "    </tr>\n",
       "    <tr>\n",
       "      <th>3</th>\n",
       "      <td>1</td>\n",
       "      <td>0.4</td>\n",
       "      <td>0.016261</td>\n",
       "    </tr>\n",
       "    <tr>\n",
       "      <th>4</th>\n",
       "      <td>1</td>\n",
       "      <td>0.5</td>\n",
       "      <td>1.172652</td>\n",
       "    </tr>\n",
       "    <tr>\n",
       "      <th>...</th>\n",
       "      <td>...</td>\n",
       "      <td>...</td>\n",
       "      <td>...</td>\n",
       "    </tr>\n",
       "    <tr>\n",
       "      <th>95</th>\n",
       "      <td>1</td>\n",
       "      <td>9.6</td>\n",
       "      <td>2.267108</td>\n",
       "    </tr>\n",
       "    <tr>\n",
       "      <th>96</th>\n",
       "      <td>1</td>\n",
       "      <td>9.7</td>\n",
       "      <td>2.351145</td>\n",
       "    </tr>\n",
       "    <tr>\n",
       "      <th>97</th>\n",
       "      <td>1</td>\n",
       "      <td>9.8</td>\n",
       "      <td>1.957880</td>\n",
       "    </tr>\n",
       "    <tr>\n",
       "      <th>98</th>\n",
       "      <td>1</td>\n",
       "      <td>9.9</td>\n",
       "      <td>1.426106</td>\n",
       "    </tr>\n",
       "    <tr>\n",
       "      <th>99</th>\n",
       "      <td>1</td>\n",
       "      <td>10.0</td>\n",
       "      <td>2.250976</td>\n",
       "    </tr>\n",
       "  </tbody>\n",
       "</table>\n",
       "<p>100 rows × 3 columns</p>\n",
       "</div>"
      ],
      "text/plain": [
       "    x0     x         y\n",
       "0    1   0.1  1.159563\n",
       "1    1   0.2  1.002381\n",
       "2    1   0.3  0.935920\n",
       "3    1   0.4  0.016261\n",
       "4    1   0.5  1.172652\n",
       "..  ..   ...       ...\n",
       "95   1   9.6  2.267108\n",
       "96   1   9.7  2.351145\n",
       "97   1   9.8  1.957880\n",
       "98   1   9.9  1.426106\n",
       "99   1  10.0  2.250976\n",
       "\n",
       "[100 rows x 3 columns]"
      ]
     },
     "execution_count": 252,
     "metadata": {},
     "output_type": "execute_result"
    }
   ],
   "source": [
    "df"
   ]
  },
  {
   "cell_type": "code",
   "execution_count": 253,
   "metadata": {},
   "outputs": [],
   "source": [
    "# Plot the graph\n",
    "def plot2D(dataFrame):\n",
    "\tif dataFrame.shape[1] - 1 != 2:\n",
    "\t\tprint(\"This is not a 2-D graph\")\n",
    "\telse:\n",
    "\t\tfig = px.scatter(dataFrame, x='x1', y='y', title='2D Scatter Plot',\n",
    "                 labels={'X': 'X-axis', 'Y': 'Y-axis'})\n",
    "\t\tfig.show()\n"
   ]
  },
  {
   "cell_type": "code",
   "execution_count": 262,
   "metadata": {},
   "outputs": [
    {
     "data": {
      "application/vnd.plotly.v1+json": {
       "config": {
        "plotlyServerURL": "https://plot.ly"
       },
       "data": [
        {
         "hovertemplate": "x1=%{x}<br>y=%{y}<extra></extra>",
         "legendgroup": "",
         "marker": {
          "color": "#636efa",
          "symbol": "circle"
         },
         "mode": "markers",
         "name": "",
         "orientation": "v",
         "showlegend": false,
         "type": "scatter",
         "x": [
          0.1,
          0.2,
          0.3,
          0.4,
          0.5,
          0.6,
          0.7,
          0.8,
          0.9,
          1,
          1.1,
          1.2,
          1.3,
          1.4,
          1.5,
          1.6,
          1.7,
          1.8,
          1.9,
          2,
          2.1,
          2.2,
          2.3,
          2.4,
          2.5,
          2.6,
          2.7,
          2.8,
          2.9,
          3,
          3.1,
          3.2,
          3.3,
          3.4,
          3.5,
          3.6,
          3.7,
          3.8,
          3.9,
          4,
          4.1,
          4.2,
          4.3,
          4.4,
          4.5,
          4.6,
          4.7,
          4.8,
          4.9,
          5,
          5.1,
          5.2,
          5.3,
          5.4,
          5.5,
          5.6,
          5.7,
          5.8,
          5.9,
          6,
          6.1,
          6.2,
          6.3,
          6.4,
          6.5,
          6.6,
          6.7,
          6.8,
          6.9,
          7,
          7.1,
          7.2,
          7.3,
          7.4,
          7.5,
          7.6,
          7.7,
          7.8,
          7.9,
          8,
          8.1,
          8.2,
          8.3,
          8.4,
          8.5,
          8.6,
          8.7,
          8.8,
          8.9,
          9,
          9.1,
          9.2,
          9.3,
          9.4,
          9.5,
          9.6,
          9.7,
          9.8,
          9.9,
          10
         ],
         "xaxis": "x",
         "y": [
          1.159562888,
          1.002380723,
          0.9359201436,
          0.01626132943,
          1.172651629,
          0.5856829048,
          1.292097032,
          1.18972661,
          1.289481062,
          1.299157674,
          1.615497591,
          1.5995774,
          1.489348082,
          0.8827030173,
          0.4418301555,
          1.364364062,
          1.672826088,
          1.642385467,
          1.741077415,
          1.414388497,
          1.513950301,
          1.487400191,
          1.456894134,
          1.25158484,
          1.696226656,
          1.569942299,
          1.253396233,
          0.6855130047,
          1.904516376,
          1.835776549,
          1.945898522,
          1.120317565,
          1.605356707,
          1.285168452,
          1.868135397,
          1.967465138,
          1.459457658,
          0.1045302239,
          1.764072125,
          1.984146485,
          2.067984608,
          1.89544392,
          1.604699541,
          1.9933616,
          1.778753623,
          2.062172263,
          1.732218117,
          1.883842876,
          2.05688526,
          1.17193115,
          1.996308874,
          1.904099801,
          1.836499143,
          1.745056421,
          1.418802523,
          1.649413973,
          1.657180441,
          1.782409948,
          2.114905524,
          2.077590717,
          1.923071909,
          1.638174216,
          2.142441821,
          2.215790554,
          1.821013966,
          1.836395274,
          1.733515318,
          0.2153057948,
          1.330702118,
          2.250346268,
          2.075782255,
          2.255787546,
          1.675749334,
          1.365492571,
          1.760787218,
          2.30547832,
          2.274952292,
          1.524499408,
          1.628722553,
          1.785536916,
          1.798346334,
          1.939791582,
          2.106221485,
          1.445041261,
          1.963214138,
          2.137763059,
          1.020381356,
          1.658711684,
          2.240459211,
          2.261544017,
          2.218514347,
          2.090667671,
          2.201462133,
          1.876555475,
          2.304601673,
          2.267108312,
          2.351145316,
          1.957879577,
          1.426106322,
          2.250976421
         ],
         "yaxis": "y"
        }
       ],
       "layout": {
        "legend": {
         "tracegroupgap": 0
        },
        "template": {
         "data": {
          "bar": [
           {
            "error_x": {
             "color": "#2a3f5f"
            },
            "error_y": {
             "color": "#2a3f5f"
            },
            "marker": {
             "line": {
              "color": "#E5ECF6",
              "width": 0.5
             },
             "pattern": {
              "fillmode": "overlay",
              "size": 10,
              "solidity": 0.2
             }
            },
            "type": "bar"
           }
          ],
          "barpolar": [
           {
            "marker": {
             "line": {
              "color": "#E5ECF6",
              "width": 0.5
             },
             "pattern": {
              "fillmode": "overlay",
              "size": 10,
              "solidity": 0.2
             }
            },
            "type": "barpolar"
           }
          ],
          "carpet": [
           {
            "aaxis": {
             "endlinecolor": "#2a3f5f",
             "gridcolor": "white",
             "linecolor": "white",
             "minorgridcolor": "white",
             "startlinecolor": "#2a3f5f"
            },
            "baxis": {
             "endlinecolor": "#2a3f5f",
             "gridcolor": "white",
             "linecolor": "white",
             "minorgridcolor": "white",
             "startlinecolor": "#2a3f5f"
            },
            "type": "carpet"
           }
          ],
          "choropleth": [
           {
            "colorbar": {
             "outlinewidth": 0,
             "ticks": ""
            },
            "type": "choropleth"
           }
          ],
          "contour": [
           {
            "colorbar": {
             "outlinewidth": 0,
             "ticks": ""
            },
            "colorscale": [
             [
              0,
              "#0d0887"
             ],
             [
              0.1111111111111111,
              "#46039f"
             ],
             [
              0.2222222222222222,
              "#7201a8"
             ],
             [
              0.3333333333333333,
              "#9c179e"
             ],
             [
              0.4444444444444444,
              "#bd3786"
             ],
             [
              0.5555555555555556,
              "#d8576b"
             ],
             [
              0.6666666666666666,
              "#ed7953"
             ],
             [
              0.7777777777777778,
              "#fb9f3a"
             ],
             [
              0.8888888888888888,
              "#fdca26"
             ],
             [
              1,
              "#f0f921"
             ]
            ],
            "type": "contour"
           }
          ],
          "contourcarpet": [
           {
            "colorbar": {
             "outlinewidth": 0,
             "ticks": ""
            },
            "type": "contourcarpet"
           }
          ],
          "heatmap": [
           {
            "colorbar": {
             "outlinewidth": 0,
             "ticks": ""
            },
            "colorscale": [
             [
              0,
              "#0d0887"
             ],
             [
              0.1111111111111111,
              "#46039f"
             ],
             [
              0.2222222222222222,
              "#7201a8"
             ],
             [
              0.3333333333333333,
              "#9c179e"
             ],
             [
              0.4444444444444444,
              "#bd3786"
             ],
             [
              0.5555555555555556,
              "#d8576b"
             ],
             [
              0.6666666666666666,
              "#ed7953"
             ],
             [
              0.7777777777777778,
              "#fb9f3a"
             ],
             [
              0.8888888888888888,
              "#fdca26"
             ],
             [
              1,
              "#f0f921"
             ]
            ],
            "type": "heatmap"
           }
          ],
          "heatmapgl": [
           {
            "colorbar": {
             "outlinewidth": 0,
             "ticks": ""
            },
            "colorscale": [
             [
              0,
              "#0d0887"
             ],
             [
              0.1111111111111111,
              "#46039f"
             ],
             [
              0.2222222222222222,
              "#7201a8"
             ],
             [
              0.3333333333333333,
              "#9c179e"
             ],
             [
              0.4444444444444444,
              "#bd3786"
             ],
             [
              0.5555555555555556,
              "#d8576b"
             ],
             [
              0.6666666666666666,
              "#ed7953"
             ],
             [
              0.7777777777777778,
              "#fb9f3a"
             ],
             [
              0.8888888888888888,
              "#fdca26"
             ],
             [
              1,
              "#f0f921"
             ]
            ],
            "type": "heatmapgl"
           }
          ],
          "histogram": [
           {
            "marker": {
             "pattern": {
              "fillmode": "overlay",
              "size": 10,
              "solidity": 0.2
             }
            },
            "type": "histogram"
           }
          ],
          "histogram2d": [
           {
            "colorbar": {
             "outlinewidth": 0,
             "ticks": ""
            },
            "colorscale": [
             [
              0,
              "#0d0887"
             ],
             [
              0.1111111111111111,
              "#46039f"
             ],
             [
              0.2222222222222222,
              "#7201a8"
             ],
             [
              0.3333333333333333,
              "#9c179e"
             ],
             [
              0.4444444444444444,
              "#bd3786"
             ],
             [
              0.5555555555555556,
              "#d8576b"
             ],
             [
              0.6666666666666666,
              "#ed7953"
             ],
             [
              0.7777777777777778,
              "#fb9f3a"
             ],
             [
              0.8888888888888888,
              "#fdca26"
             ],
             [
              1,
              "#f0f921"
             ]
            ],
            "type": "histogram2d"
           }
          ],
          "histogram2dcontour": [
           {
            "colorbar": {
             "outlinewidth": 0,
             "ticks": ""
            },
            "colorscale": [
             [
              0,
              "#0d0887"
             ],
             [
              0.1111111111111111,
              "#46039f"
             ],
             [
              0.2222222222222222,
              "#7201a8"
             ],
             [
              0.3333333333333333,
              "#9c179e"
             ],
             [
              0.4444444444444444,
              "#bd3786"
             ],
             [
              0.5555555555555556,
              "#d8576b"
             ],
             [
              0.6666666666666666,
              "#ed7953"
             ],
             [
              0.7777777777777778,
              "#fb9f3a"
             ],
             [
              0.8888888888888888,
              "#fdca26"
             ],
             [
              1,
              "#f0f921"
             ]
            ],
            "type": "histogram2dcontour"
           }
          ],
          "mesh3d": [
           {
            "colorbar": {
             "outlinewidth": 0,
             "ticks": ""
            },
            "type": "mesh3d"
           }
          ],
          "parcoords": [
           {
            "line": {
             "colorbar": {
              "outlinewidth": 0,
              "ticks": ""
             }
            },
            "type": "parcoords"
           }
          ],
          "pie": [
           {
            "automargin": true,
            "type": "pie"
           }
          ],
          "scatter": [
           {
            "fillpattern": {
             "fillmode": "overlay",
             "size": 10,
             "solidity": 0.2
            },
            "type": "scatter"
           }
          ],
          "scatter3d": [
           {
            "line": {
             "colorbar": {
              "outlinewidth": 0,
              "ticks": ""
             }
            },
            "marker": {
             "colorbar": {
              "outlinewidth": 0,
              "ticks": ""
             }
            },
            "type": "scatter3d"
           }
          ],
          "scattercarpet": [
           {
            "marker": {
             "colorbar": {
              "outlinewidth": 0,
              "ticks": ""
             }
            },
            "type": "scattercarpet"
           }
          ],
          "scattergeo": [
           {
            "marker": {
             "colorbar": {
              "outlinewidth": 0,
              "ticks": ""
             }
            },
            "type": "scattergeo"
           }
          ],
          "scattergl": [
           {
            "marker": {
             "colorbar": {
              "outlinewidth": 0,
              "ticks": ""
             }
            },
            "type": "scattergl"
           }
          ],
          "scattermapbox": [
           {
            "marker": {
             "colorbar": {
              "outlinewidth": 0,
              "ticks": ""
             }
            },
            "type": "scattermapbox"
           }
          ],
          "scatterpolar": [
           {
            "marker": {
             "colorbar": {
              "outlinewidth": 0,
              "ticks": ""
             }
            },
            "type": "scatterpolar"
           }
          ],
          "scatterpolargl": [
           {
            "marker": {
             "colorbar": {
              "outlinewidth": 0,
              "ticks": ""
             }
            },
            "type": "scatterpolargl"
           }
          ],
          "scatterternary": [
           {
            "marker": {
             "colorbar": {
              "outlinewidth": 0,
              "ticks": ""
             }
            },
            "type": "scatterternary"
           }
          ],
          "surface": [
           {
            "colorbar": {
             "outlinewidth": 0,
             "ticks": ""
            },
            "colorscale": [
             [
              0,
              "#0d0887"
             ],
             [
              0.1111111111111111,
              "#46039f"
             ],
             [
              0.2222222222222222,
              "#7201a8"
             ],
             [
              0.3333333333333333,
              "#9c179e"
             ],
             [
              0.4444444444444444,
              "#bd3786"
             ],
             [
              0.5555555555555556,
              "#d8576b"
             ],
             [
              0.6666666666666666,
              "#ed7953"
             ],
             [
              0.7777777777777778,
              "#fb9f3a"
             ],
             [
              0.8888888888888888,
              "#fdca26"
             ],
             [
              1,
              "#f0f921"
             ]
            ],
            "type": "surface"
           }
          ],
          "table": [
           {
            "cells": {
             "fill": {
              "color": "#EBF0F8"
             },
             "line": {
              "color": "white"
             }
            },
            "header": {
             "fill": {
              "color": "#C8D4E3"
             },
             "line": {
              "color": "white"
             }
            },
            "type": "table"
           }
          ]
         },
         "layout": {
          "annotationdefaults": {
           "arrowcolor": "#2a3f5f",
           "arrowhead": 0,
           "arrowwidth": 1
          },
          "autotypenumbers": "strict",
          "coloraxis": {
           "colorbar": {
            "outlinewidth": 0,
            "ticks": ""
           }
          },
          "colorscale": {
           "diverging": [
            [
             0,
             "#8e0152"
            ],
            [
             0.1,
             "#c51b7d"
            ],
            [
             0.2,
             "#de77ae"
            ],
            [
             0.3,
             "#f1b6da"
            ],
            [
             0.4,
             "#fde0ef"
            ],
            [
             0.5,
             "#f7f7f7"
            ],
            [
             0.6,
             "#e6f5d0"
            ],
            [
             0.7,
             "#b8e186"
            ],
            [
             0.8,
             "#7fbc41"
            ],
            [
             0.9,
             "#4d9221"
            ],
            [
             1,
             "#276419"
            ]
           ],
           "sequential": [
            [
             0,
             "#0d0887"
            ],
            [
             0.1111111111111111,
             "#46039f"
            ],
            [
             0.2222222222222222,
             "#7201a8"
            ],
            [
             0.3333333333333333,
             "#9c179e"
            ],
            [
             0.4444444444444444,
             "#bd3786"
            ],
            [
             0.5555555555555556,
             "#d8576b"
            ],
            [
             0.6666666666666666,
             "#ed7953"
            ],
            [
             0.7777777777777778,
             "#fb9f3a"
            ],
            [
             0.8888888888888888,
             "#fdca26"
            ],
            [
             1,
             "#f0f921"
            ]
           ],
           "sequentialminus": [
            [
             0,
             "#0d0887"
            ],
            [
             0.1111111111111111,
             "#46039f"
            ],
            [
             0.2222222222222222,
             "#7201a8"
            ],
            [
             0.3333333333333333,
             "#9c179e"
            ],
            [
             0.4444444444444444,
             "#bd3786"
            ],
            [
             0.5555555555555556,
             "#d8576b"
            ],
            [
             0.6666666666666666,
             "#ed7953"
            ],
            [
             0.7777777777777778,
             "#fb9f3a"
            ],
            [
             0.8888888888888888,
             "#fdca26"
            ],
            [
             1,
             "#f0f921"
            ]
           ]
          },
          "colorway": [
           "#636efa",
           "#EF553B",
           "#00cc96",
           "#ab63fa",
           "#FFA15A",
           "#19d3f3",
           "#FF6692",
           "#B6E880",
           "#FF97FF",
           "#FECB52"
          ],
          "font": {
           "color": "#2a3f5f"
          },
          "geo": {
           "bgcolor": "white",
           "lakecolor": "white",
           "landcolor": "#E5ECF6",
           "showlakes": true,
           "showland": true,
           "subunitcolor": "white"
          },
          "hoverlabel": {
           "align": "left"
          },
          "hovermode": "closest",
          "mapbox": {
           "style": "light"
          },
          "paper_bgcolor": "white",
          "plot_bgcolor": "#E5ECF6",
          "polar": {
           "angularaxis": {
            "gridcolor": "white",
            "linecolor": "white",
            "ticks": ""
           },
           "bgcolor": "#E5ECF6",
           "radialaxis": {
            "gridcolor": "white",
            "linecolor": "white",
            "ticks": ""
           }
          },
          "scene": {
           "xaxis": {
            "backgroundcolor": "#E5ECF6",
            "gridcolor": "white",
            "gridwidth": 2,
            "linecolor": "white",
            "showbackground": true,
            "ticks": "",
            "zerolinecolor": "white"
           },
           "yaxis": {
            "backgroundcolor": "#E5ECF6",
            "gridcolor": "white",
            "gridwidth": 2,
            "linecolor": "white",
            "showbackground": true,
            "ticks": "",
            "zerolinecolor": "white"
           },
           "zaxis": {
            "backgroundcolor": "#E5ECF6",
            "gridcolor": "white",
            "gridwidth": 2,
            "linecolor": "white",
            "showbackground": true,
            "ticks": "",
            "zerolinecolor": "white"
           }
          },
          "shapedefaults": {
           "line": {
            "color": "#2a3f5f"
           }
          },
          "ternary": {
           "aaxis": {
            "gridcolor": "white",
            "linecolor": "white",
            "ticks": ""
           },
           "baxis": {
            "gridcolor": "white",
            "linecolor": "white",
            "ticks": ""
           },
           "bgcolor": "#E5ECF6",
           "caxis": {
            "gridcolor": "white",
            "linecolor": "white",
            "ticks": ""
           }
          },
          "title": {
           "x": 0.05
          },
          "xaxis": {
           "automargin": true,
           "gridcolor": "white",
           "linecolor": "white",
           "ticks": "",
           "title": {
            "standoff": 15
           },
           "zerolinecolor": "white",
           "zerolinewidth": 2
          },
          "yaxis": {
           "automargin": true,
           "gridcolor": "white",
           "linecolor": "white",
           "ticks": "",
           "title": {
            "standoff": 15
           },
           "zerolinecolor": "white",
           "zerolinewidth": 2
          }
         }
        },
        "title": {
         "text": "2D Scatter Plot"
        },
        "xaxis": {
         "anchor": "y",
         "domain": [
          0,
          1
         ],
         "title": {
          "text": "x1"
         }
        },
        "yaxis": {
         "anchor": "x",
         "domain": [
          0,
          1
         ],
         "title": {
          "text": "y"
         }
        }
       }
      }
     },
     "metadata": {},
     "output_type": "display_data"
    }
   ],
   "source": [
    "plot2D(df)"
   ]
  },
  {
   "cell_type": "code",
   "execution_count": null,
   "metadata": {},
   "outputs": [],
   "source": [
    "def plot3D(dataFrame):\n",
    "\tif dataFrame.shape[1] - 1 != 3:\n",
    "\t\tprint(\"This is not a 3-D graph\")\n",
    "\n",
    "\telse:\n",
    "\t\t# Create an interactive 3D scatter plot with Plotly\n",
    "\t\tfig = px.scatter_3d(df, x=df.columns[0], y=df.columns[1], z=df.columns[2], title='3D Plot for Visualization',\n",
    "\t\t\t\t\t\t\tlabels={'x1': 'Predictor1', 'x2': 'Predictor2', 'y': 'Predicate'})\n",
    "\t\tfig.show()\n",
    "\n"
   ]
  },
  {
   "cell_type": "code",
   "execution_count": null,
   "metadata": {},
   "outputs": [
    {
     "name": "stdout",
     "output_type": "stream",
     "text": [
      "This is not a 3-D graph\n"
     ]
    }
   ],
   "source": [
    "plot3D(df)"
   ]
  },
  {
   "cell_type": "code",
   "execution_count": 263,
   "metadata": {},
   "outputs": [],
   "source": [
    "# Multi Variate Linear Regression\n",
    "def multiLinearReg(dataFrame):\n",
    "    # Making column vecor X\n",
    "    X = dataFrame.iloc[:, :-1].values   # Gives a 2-D np.array\n",
    "    y = dataFrame.iloc[:, -1:].values   # 1st argument selects row and 2nd column\n",
    "    # print(y)\n",
    "    dimension = len(dataFrame.columns)-1\n",
    "    matrix = np.zeros((dimension, dimension))\n",
    "    vector = np.zeros((dimension, 1))\n",
    "    for i in range(len(X)):\n",
    "        y_i = np.array(y[i][0]).reshape(-1, 1)\n",
    "        X_i = np.array(X[i]).reshape(-1, 1)\n",
    "        X_i_T = np.transpose(X_i)       # X_i.T\n",
    "        # print((X_i).shape, X_i_T.shape, matrix.shape)\n",
    "        matrix += X_i @ X_i_T\n",
    "        vector += X_i @ y_i\n",
    "    # print(np.shape(matrix))\n",
    "    W = np.linalg.pinv(matrix) @ vector\n",
    "    # print(W)\n",
    "    # print(np.shape(W))\n",
    "    return W\n",
    "\n",
    "def predictMultiLinearReg(dataFrame):\n",
    "    # Divide data into 80:20 ratio\n",
    "    train_df, test_df = train_test_split(dataFrame, test_size=0.2, random_state=42)\n",
    "    coeffVector = multiLinearReg(train_df)  # Train over train_df\n",
    "    # Doing prediction over test_df\n",
    "    X = test_df.iloc[:, :-1].values\n",
    "    y = test_df.iloc[:, -1:].values\n",
    "    prediction = np.zeros((len(test_df), 1))\n",
    "    for i in range(len(X)):\n",
    "        # print(prediction.shape)\n",
    "        value = coeffVector.T @ X[i].reshape(-1, 1)\n",
    "        # np.add(prediction, value)\n",
    "        # print(prediction)\n",
    "        prediction[i] = value\n",
    "\n",
    "    return y, prediction\n"
   ]
  },
  {
   "cell_type": "code",
   "execution_count": 280,
   "metadata": {},
   "outputs": [],
   "source": [
    "# multiLinearReg(df)"
   ]
  },
  {
   "cell_type": "code",
   "execution_count": 279,
   "metadata": {},
   "outputs": [],
   "source": [
    "# Gradient Descent for a function y = f(x)\n",
    "def gradDescent(dataFrame, function, eta):  # Here we want to minimise y by choosing values for x\n",
    "    # print(dataFrame)\n",
    "    W = np.zeros((len(dataFrame.columns) - 1, 1))\n",
    "    for _ in range(1000):\n",
    "        # print(W)\n",
    "        W = W - eta * function(dataFrame, W)\n",
    "    return W\n",
    "\n",
    "def linRegGrad(dataFrame, W):\n",
    "    n = len(dataFrame)\n",
    "    X = dataFrame.iloc[:, :-1].values\n",
    "    y = dataFrame.iloc[:, -1:].values.reshape(-1, 1)\n",
    "    # grad = np.zeros((n - 1, 1))\n",
    "    # for i in range(len(dataFrame)):\n",
    "    #     X_i = dataFrame.iloc[i, :-1].values.reshape(-1, 1)\n",
    "    #     y_i = dataFrame.iloc[i, -1:].values\n",
    "    #     error= W.T @ X_i- y_i\n",
    "    #     # cost = (np.sum((W.T @ X) - y)**2)/n\n",
    "    #     grad += error * X_i\n",
    "    error = X @ W - y\n",
    "    grad = X.T @ error\n",
    "    return grad*(2/n)\n",
    "\n",
    "def linRegCost(dataFrame, W):\n",
    "    n = len(dataFrame)\n",
    "    X = dataFrame.iloc[:, :-1]\n",
    "    y = dataFrame.iloc[:, -1:]\n",
    "    grad = 0\n",
    "    for i in range(len(dataFrame)):\n",
    "        X_i = dataFrame.iloc[i, :-1].values.reshape(-1, 1)\n",
    "        y_i = dataFrame.iloc[i, -1:].values\n",
    "        error= W.T @ X_i- y_i\n",
    "        cost = (error**2)/n\n",
    "        # grad += error * X_i\n",
    "    return cost*(1/n)"
   ]
  },
  {
   "cell_type": "code",
   "execution_count": 281,
   "metadata": {},
   "outputs": [],
   "source": [
    "# gradDescent(df, linRegGrad, 0.01)"
   ]
  },
  {
   "cell_type": "code",
   "execution_count": null,
   "metadata": {},
   "outputs": [],
   "source": [
    "# predictMultiLinearReg(df)"
   ]
  },
  {
   "cell_type": "code",
   "execution_count": null,
   "metadata": {},
   "outputs": [],
   "source": [
    "# scikit-learn model for Multi Variate Linear Regression\n",
    "\n",
    "def sciLearnpredictMultiLinearReg(dataFrame):\n",
    "    train_df, test_df = train_test_split(dataFrame, test_size=0.2, random_state=42)\n",
    "    # Create and train the model\n",
    "    multivariate_model = LinearRegression()\n",
    "    multivariate_model.fit(train_df.iloc[:, :-1].values, train_df['y'])\n",
    "    # print(multivariate_model.coef_)\n",
    "    # Make predictions\n",
    "    prediction = multivariate_model.predict(test_df.iloc[:, :-1].values).reshape(-1, 1)\n",
    "    # return test_df['y'], prediction\n",
    "    return test_df.iloc[:, -1:].values, prediction\n"
   ]
  },
  {
   "cell_type": "code",
   "execution_count": null,
   "metadata": {},
   "outputs": [],
   "source": [
    "# sciLearnpredictMultiLinearReg(df)"
   ]
  },
  {
   "cell_type": "markdown",
   "metadata": {},
   "source": [
    "If above case is not able to make a good fit for our data, then we need to change the model.\n",
    "We need to predict the nature by seeing the data or visualisation(if possible).\n",
    "\n",
    "1) The first guess can be Polynomial Linear Regression. --> In a polynomial Linear Regression, the predicate variable keeps relation with predictors variable in polynomial form. This can also be solved by using Multi Variate Linear Regression. We just need to add one axis for every non linear relation.(Note that data points for these new axis would come from the base variable)\n",
    "For example, \n",
    "$$y = ax^2 + bx + c$$\n",
    "Now modifying the equation, replace $ x^2 $ with $x_2$\n",
    "$$y = ax_2 + bx + c$$\n",
    "The data points for $x_2$ can be obtined by squaring the data points of $x$.\n",
    "Thus it transformed to Multivariate Linear Regression."
   ]
  },
  {
   "cell_type": "code",
   "execution_count": 282,
   "metadata": {},
   "outputs": [],
   "source": [
    "# len(df.columns)"
   ]
  },
  {
   "cell_type": "code",
   "execution_count": 297,
   "metadata": {},
   "outputs": [],
   "source": [
    "def tranformData(dataFrame):\n",
    "    # Prepairing data frame as per new requirement\n",
    "    featureDegreeList = []  # Tells the degree of each dimension as per their column index\n",
    "    newCol = len(dataFrame.columns)-1\n",
    "    for i in range(1, newCol):\n",
    "        degree = int(input(f\"Enter the highest degree for x{i}: \"))\n",
    "        # for j in range(1, degree+1):\n",
    "        #     if input(f\"Enter y if x{i} should have {j} as exponent else n\") == \"y\":\n",
    "        #         featureDegreeList.append(j)\n",
    "        #         if j != 1:  # Since degree 1 term is already there\n",
    "        #             dataFrame.insert(loc = newCol, column=f'x{newCol}', value=[k**j for k in dataFrame[f'x{i}']])\n",
    "        #         newCol += 1\n",
    "        featureDegreeList.append(degree)\n",
    "        if degree != 1:\n",
    "            dataFrame[f\"x{i}\"] = [k**degree for k in dataFrame[f'x{i}']]\n",
    "    return featureDegreeList\n",
    "\n",
    "def polyLinearReg(dataFrame):\n",
    "    # featureDegreeList = tranformData(dataFrame)\n",
    "    # print(dataFrame)\n",
    "    return multiLinearReg(dataFrame)\n",
    "\n",
    "def predictPolyLinearReg(dataFrame):\n",
    "    dataFrameCopy = dataFrame.copy()\n",
    "    tranformData(dataFrameCopy)\n",
    "    train_df, test_df = train_test_split(dataFrameCopy)\n",
    "    coeffVector = polyLinearReg(train_df)\n",
    "\n",
    "    # Tranform the test_df as per featureDegreeList(trained model)\n",
    "    # newCol = len(train_df.columns)-1\n",
    "    # for i in range(1, newCol):\n",
    "    #     # print(i)\n",
    "    #     degree = featureDegreeList[i-1]\n",
    "    #     if degree != 1:\n",
    "    #         dataFrame[f\"x{i}\"] = [k**degree for k in dataFrame[f'x{i}']]\n",
    "\n",
    "    X = test_df.iloc[:, :-1].values\n",
    "    y = test_df.iloc[:, -1:].values\n",
    "    prediction = np.zeros((len(test_df), 1))\n",
    "    for i in  range(len(X)):\n",
    "        value = coeffVector.T @ X[i].reshape(-1, 1)\n",
    "        # print(prediction)\n",
    "        prediction[i] = value\n",
    "\n",
    "    return y, prediction\n",
    "    \n"
   ]
  },
  {
   "cell_type": "code",
   "execution_count": 292,
   "metadata": {},
   "outputs": [],
   "source": [
    "# predictPolyLinearReg(df)"
   ]
  },
  {
   "cell_type": "code",
   "execution_count": null,
   "metadata": {},
   "outputs": [],
   "source": [
    "# scikit-learn model\n",
    "\n",
    "def sciLearnpredictPolyLinearReg(dataFrame):\n",
    "    train_df, test_df = train_test_split(dataFrame, test_size=0.2, random_state=42)\n",
    "    # Create and train the model\n",
    "    degree = 1\n",
    "    poly_model = make_pipeline(PolynomialFeatures(degree), LinearRegression())\n",
    "    poly_model.fit(train_df.iloc[:, :-1].values, train_df['y'])\n",
    "    # Make predictions\n",
    "    prediction = poly_model.predict(test_df.iloc[:, :-1].values).reshape(-1, 1)\n",
    "    # return test_df['y'], prediction\n",
    "    return test_df.iloc[:, -1:].values, prediction\n",
    "\n"
   ]
  },
  {
   "cell_type": "code",
   "execution_count": null,
   "metadata": {},
   "outputs": [],
   "source": [
    "# sciLearnpredictPolyLinearReg(df)"
   ]
  },
  {
   "cell_type": "markdown",
   "metadata": {},
   "source": [
    "# Exponential Linear Regression\n",
    "\n",
    "In some cases predicate variable may depend on predictor via exponential relation. These things need to verified by checking the nature of data. In some cases, for 2-d and 3-d we can take help of visualisation otherwise we need domain knowledge to have intution on the kind of relationship. Over that model can predict the value of constants involved in relation."
   ]
  },
  {
   "cell_type": "code",
   "execution_count": null,
   "metadata": {},
   "outputs": [],
   "source": [
    "# This function need to be written properly\n",
    "# Currently I am writing this function for data2\n",
    "# Because as observed from graph, only data2 looks exponential\n",
    "\n",
    "def predictExpoLinearReg(dataFrame):\n",
    "    # Prepairing data frame as per new requirement\n",
    "    dataFrame = dataFrame.copy()\n",
    "    dataFrame['y'] = np.log(dataFrame['y'])\n",
    "    actual, predicted = predictMultiLinearReg(dataFrame)\n",
    "    # print(actual.shape, predicted.shape)\n",
    "    return np.exp(actual), np.exp(predicted)\n",
    "\n",
    "# def expoLinearReg(dataFrame):\n",
    "#     for i in range(len(dataFrame[\"x1\"])):\n",
    "#         try:\n",
    "#             df.loc[i, \"x1\"] = math.exp(df.loc[i, \"x1\"])\n",
    "#         except OverflowError:       # When exponentiation goes infinity\n",
    "#             df.loc[i, \"x1\"] = float(\"inf\")\n",
    "#     return multiLinearReg(dataFrame)\n",
    "\n",
    "# But data2 also donn't seems to be exponential as it's R-square goes to 0.4 around"
   ]
  },
  {
   "cell_type": "code",
   "execution_count": null,
   "metadata": {},
   "outputs": [],
   "source": [
    "# predictExpoLinearReg(df)"
   ]
  },
  {
   "cell_type": "code",
   "execution_count": null,
   "metadata": {},
   "outputs": [],
   "source": [
    "# scikit-learn exponential model\n",
    "def sciLearnpredictExpoLinearReg(dataFrame):\n",
    "    train_df, test_df = train_test_split(dataFrame, test_size=0.2, random_state=42)\n",
    "    \n",
    "    train_df['y'] = np.log(train_df['y'])\n",
    "    # test_df['y'] = np.log(test_df['y'])\n",
    "                \n",
    "    # Create and train the model\n",
    "    exp_model = LinearRegression()\n",
    "    exp_model.fit(train_df.iloc[:, :-1].values, train_df['y'])\n",
    "    # Make predictions\n",
    "    prediction = exp_model.predict(test_df.iloc[:, :-1].values).reshape(-1, 1)\n",
    "    return test_df.iloc[:, -1:].values, np.exp(prediction)\n"
   ]
  },
  {
   "cell_type": "code",
   "execution_count": null,
   "metadata": {},
   "outputs": [],
   "source": [
    "# sciLearnpredictExpoLinearReg(df)"
   ]
  },
  {
   "cell_type": "markdown",
   "metadata": {},
   "source": [
    "# Accuracy\n",
    "\n",
    "Accuracy check can be done via various methods :\n",
    "1) Mean Squared : \n",
    "$$ M.S.E. = \\frac{1}{n}\\sum_{i = 1}^n (y_i - \\hat y_i)^2$$\n",
    "\n",
    "2) Mean Absolute Error :\n",
    "$$ M.A.E. = \\frac{1}{n}\\sum_{i = 1}^n |y_i - \\hat y_i| $$\n",
    "\n",
    "3) Root Mean Squared Error :\n",
    "$$ R.M.S.E. = \\frac{1}{n}\\sqrt{\\sum_{i = 1}^n (y_i - \\hat y_i)^2}$$\n",
    "4) R-Squared method : \n",
    "$$R^2 = 1 - \\frac{RSS}{TSS}$$\n",
    "Where, RSS is Residual Square Sum measures the difference between actual observed value($y$) and the predicted value($\\hat y$).\n",
    "$$ RSS = \\sum_{i = 1}^n (y_i - \\hat y_i)^2$$\n",
    "and \n",
    "\n",
    "TSS is Total Sum of Squares that measures the total variance between actual observed value($y$) and the predicted value($\\hat y$).\n",
    "$$ TSS = \\sum_{i = 1}^n (y_i - \\bar y_i)^2$$\n",
    "\n",
    "This is used to normalise the $y$-axis specially\n"
   ]
  },
  {
   "cell_type": "code",
   "execution_count": null,
   "metadata": {},
   "outputs": [],
   "source": [
    "def meanSquare(sample, model):\n",
    "    actual, predicted = model(sample)\n",
    "    n = len(actual)\n",
    "    value = 0\n",
    "    for i in range(n):\n",
    "        value += (actual[i] - predicted[i]) ** 2\n",
    "    return value/n\n",
    "\n",
    "def meanAbsolute(sample, model):\n",
    "    actual, predicted = model(sample)\n",
    "    n = len(actual)\n",
    "    value = 0\n",
    "    for i in range(n):\n",
    "        value += abs(actual[i] - predicted[i])\n",
    "    return value/n\n",
    "\n",
    "def rootMeanSquare(sample, model):\n",
    "    actual, predicted = model(sample)\n",
    "    n = len(actual)\n",
    "    value = 0\n",
    "    for i in range(n):\n",
    "        value += (actual[i] - predicted[i]) ** 2\n",
    "    return (value ** 0.5)/n\n",
    "\n",
    "def RSquare(sample, model):\n",
    "    actual, predicted = model(sample)\n",
    "    predictedMean = np.mean(predicted)\n",
    "    RSS = 0\n",
    "    TSS = 0\n",
    "    for i in range(len(actual)):\n",
    "        RSS += (actual[i] - predicted[i]) ** 2\n",
    "        TSS += (actual[i] - predictedMean)** 2\n",
    "    return 1 - (RSS/TSS)"
   ]
  },
  {
   "cell_type": "code",
   "execution_count": null,
   "metadata": {},
   "outputs": [],
   "source": [
    "# meanAbsolute(df, predictMultiLinearReg)\n",
    "# meanSquare(df, predictMultiLinearReg)\n",
    "# rootMeanSquare(df, predictMultiLinearReg)\n",
    "# RSquare(df, predictMultiLinearReg)"
   ]
  },
  {
   "cell_type": "code",
   "execution_count": 259,
   "metadata": {},
   "outputs": [],
   "source": [
    "# meanAbsolute(df, predictExpoLinearReg)\n",
    "# meanSquare(df, predictExpoLinearReg)\n",
    "# rootMeanSquare(df, predictExpoLinearReg)\n",
    "# RSquare(df, predictExpoLinearReg)"
   ]
  },
  {
   "cell_type": "code",
   "execution_count": 311,
   "metadata": {},
   "outputs": [
    {
     "data": {
      "text/plain": [
       "array([0.34208411])"
      ]
     },
     "execution_count": 311,
     "metadata": {},
     "output_type": "execute_result"
    }
   ],
   "source": [
    "meanAbsolute(df, predictPolyLinearReg)\n",
    "# meanSquare(df, predictPolyLinearReg)\n",
    "# rootMeanSquare(df, predictPolyLinearReg)\n",
    "# RSquare(df, predictPolyLinearReg)"
   ]
  },
  {
   "cell_type": "code",
   "execution_count": null,
   "metadata": {},
   "outputs": [],
   "source": [
    "# meanAbsolute(df, sciLearnpredictMultiLinearReg)\n",
    "# meanSquare(df, sciLearnpredictMultiLinearReg)\n",
    "# rootMeanSquare(df, sciLearnpredictMultiLinearReg)\n",
    "# RSquare(df, sciLearnpredictMultiLinearReg)"
   ]
  },
  {
   "cell_type": "code",
   "execution_count": null,
   "metadata": {},
   "outputs": [],
   "source": [
    "# meanAbsolute(df, sciLearnpredictExpoLinearReg)\n",
    "# meanSquare(df, sciLearnpredictExpoLinearReg)\n",
    "# rootMeanSquare(df, sciLearnpredictExpoLinearReg)\n",
    "# RSquare(df, sciLearnpredictExpoLinearReg)"
   ]
  },
  {
   "cell_type": "code",
   "execution_count": 293,
   "metadata": {},
   "outputs": [],
   "source": [
    "# meanAbsolute(df, sciLearnpredictPolyLinearReg)\n",
    "# meanSquare(df, sciLearnpredictPolyLinearReg)\n",
    "# rootMeanSquare(df, sciLearnpredictPolyLinearReg)\n",
    "# RSquare(df, sciLearnpredictPolyLinearReg)"
   ]
  },
  {
   "cell_type": "code",
   "execution_count": 326,
   "metadata": {},
   "outputs": [
    {
     "data": {
      "image/png": "[encoded data removed]",
      "text/plain": [
       "<Figure size 640x480 with 1 Axes>"
      ]
     },
     "metadata": {},
     "output_type": "display_data"
    }
   ],
   "source": [
    "Actual, Predicted = predictMultiLinearReg(df)\n",
    "\n",
    "# Create an index array for each data point\n",
    "index = np.arange(len(Actual))\n",
    "\n",
    "# Plotting Actual values above x-axis\n",
    "plt.scatter(index, Actual, color='blue', marker='^', label='Actual', s=100)\n",
    "\n",
    "# Plotting Predicted values below x-axis\n",
    "plt.scatter(index, Predicted, color='orange', marker='v', label='Predicted', s=100)\n",
    "\n",
    "# Adding Labels and Title\n",
    "plt.xlabel('Data Points')\n",
    "plt.ylabel('Values')\n",
    "plt.title('Actual vs Predicted Values')\n",
    "\n",
    "# Adding a Legend\n",
    "plt.legend()\n",
    "\n",
    "# Display the plot\n",
    "plt.show()"
   ]
  },
  {
   "cell_type": "code",
   "execution_count": 325,
   "metadata": {},
   "outputs": [
    {
     "ename": "TypeError",
     "evalue": "only length-1 arrays can be converted to Python scalars",
     "output_type": "error",
     "traceback": [
      "\u001b[1;31m---------------------------------------------------------------------------\u001b[0m",
      "\u001b[1;31mTypeError\u001b[0m                                 Traceback (most recent call last)",
      "Cell \u001b[1;32mIn[325], line 7\u001b[0m\n\u001b[0;32m      4\u001b[0m index \u001b[38;5;241m=\u001b[39m np\u001b[38;5;241m.\u001b[39marange(\u001b[38;5;28mlen\u001b[39m(Actual))\n\u001b[0;32m      6\u001b[0m \u001b[38;5;66;03m# Plotting Actual values\u001b[39;00m\n\u001b[1;32m----> 7\u001b[0m \u001b[43mplt\u001b[49m\u001b[38;5;241;43m.\u001b[39;49m\u001b[43mbar\u001b[49m\u001b[43m(\u001b[49m\u001b[43mindex\u001b[49m\u001b[43m,\u001b[49m\u001b[43m \u001b[49m\u001b[43mActual\u001b[49m\u001b[43m,\u001b[49m\u001b[43m \u001b[49m\u001b[43mcolor\u001b[49m\u001b[38;5;241;43m=\u001b[39;49m\u001b[38;5;124;43m'\u001b[39;49m\u001b[38;5;124;43mblue\u001b[39;49m\u001b[38;5;124;43m'\u001b[39;49m\u001b[43m,\u001b[49m\u001b[43m \u001b[49m\u001b[43mlabel\u001b[49m\u001b[38;5;241;43m=\u001b[39;49m\u001b[38;5;124;43m'\u001b[39;49m\u001b[38;5;124;43mActual\u001b[39;49m\u001b[38;5;124;43m'\u001b[39;49m\u001b[43m)\u001b[49m\n\u001b[0;32m      9\u001b[0m \u001b[38;5;66;03m# Plotting Predicted values\u001b[39;00m\n\u001b[0;32m     10\u001b[0m plt\u001b[38;5;241m.\u001b[39mbar(index, Predicted, color\u001b[38;5;241m=\u001b[39m\u001b[38;5;124m'\u001b[39m\u001b[38;5;124morange\u001b[39m\u001b[38;5;124m'\u001b[39m, label\u001b[38;5;241m=\u001b[39m\u001b[38;5;124m'\u001b[39m\u001b[38;5;124mPredicted\u001b[39m\u001b[38;5;124m'\u001b[39m)\n",
      "File \u001b[1;32mc:\\Users\\LENOVO-PC\\AppData\\Local\\Programs\\Python\\Python311\\Lib\\site-packages\\matplotlib\\pyplot.py:2739\u001b[0m, in \u001b[0;36mbar\u001b[1;34m(x, height, width, bottom, align, data, **kwargs)\u001b[0m\n\u001b[0;32m   2728\u001b[0m \u001b[38;5;129m@_copy_docstring_and_deprecators\u001b[39m(Axes\u001b[38;5;241m.\u001b[39mbar)\n\u001b[0;32m   2729\u001b[0m \u001b[38;5;28;01mdef\u001b[39;00m \u001b[38;5;21mbar\u001b[39m(\n\u001b[0;32m   2730\u001b[0m     x: \u001b[38;5;28mfloat\u001b[39m \u001b[38;5;241m|\u001b[39m ArrayLike,\n\u001b[1;32m   (...)\u001b[0m\n\u001b[0;32m   2737\u001b[0m     \u001b[38;5;241m*\u001b[39m\u001b[38;5;241m*\u001b[39mkwargs,\n\u001b[0;32m   2738\u001b[0m ) \u001b[38;5;241m-\u001b[39m\u001b[38;5;241m>\u001b[39m BarContainer:\n\u001b[1;32m-> 2739\u001b[0m     \u001b[38;5;28;01mreturn\u001b[39;00m \u001b[43mgca\u001b[49m\u001b[43m(\u001b[49m\u001b[43m)\u001b[49m\u001b[38;5;241;43m.\u001b[39;49m\u001b[43mbar\u001b[49m\u001b[43m(\u001b[49m\n\u001b[0;32m   2740\u001b[0m \u001b[43m        \u001b[49m\u001b[43mx\u001b[49m\u001b[43m,\u001b[49m\n\u001b[0;32m   2741\u001b[0m \u001b[43m        \u001b[49m\u001b[43mheight\u001b[49m\u001b[43m,\u001b[49m\n\u001b[0;32m   2742\u001b[0m \u001b[43m        \u001b[49m\u001b[43mwidth\u001b[49m\u001b[38;5;241;43m=\u001b[39;49m\u001b[43mwidth\u001b[49m\u001b[43m,\u001b[49m\n\u001b[0;32m   2743\u001b[0m \u001b[43m        \u001b[49m\u001b[43mbottom\u001b[49m\u001b[38;5;241;43m=\u001b[39;49m\u001b[43mbottom\u001b[49m\u001b[43m,\u001b[49m\n\u001b[0;32m   2744\u001b[0m \u001b[43m        \u001b[49m\u001b[43malign\u001b[49m\u001b[38;5;241;43m=\u001b[39;49m\u001b[43malign\u001b[49m\u001b[43m,\u001b[49m\n\u001b[0;32m   2745\u001b[0m \u001b[43m        \u001b[49m\u001b[38;5;241;43m*\u001b[39;49m\u001b[38;5;241;43m*\u001b[39;49m\u001b[43m(\u001b[49m\u001b[43m{\u001b[49m\u001b[38;5;124;43m\"\u001b[39;49m\u001b[38;5;124;43mdata\u001b[39;49m\u001b[38;5;124;43m\"\u001b[39;49m\u001b[43m:\u001b[49m\u001b[43m \u001b[49m\u001b[43mdata\u001b[49m\u001b[43m}\u001b[49m\u001b[43m \u001b[49m\u001b[38;5;28;43;01mif\u001b[39;49;00m\u001b[43m \u001b[49m\u001b[43mdata\u001b[49m\u001b[43m \u001b[49m\u001b[38;5;129;43;01mis\u001b[39;49;00m\u001b[43m \u001b[49m\u001b[38;5;129;43;01mnot\u001b[39;49;00m\u001b[43m \u001b[49m\u001b[38;5;28;43;01mNone\u001b[39;49;00m\u001b[43m \u001b[49m\u001b[38;5;28;43;01melse\u001b[39;49;00m\u001b[43m \u001b[49m\u001b[43m{\u001b[49m\u001b[43m}\u001b[49m\u001b[43m)\u001b[49m\u001b[43m,\u001b[49m\n\u001b[0;32m   2746\u001b[0m \u001b[43m        \u001b[49m\u001b[38;5;241;43m*\u001b[39;49m\u001b[38;5;241;43m*\u001b[39;49m\u001b[43mkwargs\u001b[49m\u001b[43m,\u001b[49m\n\u001b[0;32m   2747\u001b[0m \u001b[43m    \u001b[49m\u001b[43m)\u001b[49m\n",
      "File \u001b[1;32mc:\\Users\\LENOVO-PC\\AppData\\Local\\Programs\\Python\\Python311\\Lib\\site-packages\\matplotlib\\__init__.py:1478\u001b[0m, in \u001b[0;36m_preprocess_data.<locals>.inner\u001b[1;34m(ax, data, *args, **kwargs)\u001b[0m\n\u001b[0;32m   1475\u001b[0m \u001b[38;5;129m@functools\u001b[39m\u001b[38;5;241m.\u001b[39mwraps(func)\n\u001b[0;32m   1476\u001b[0m \u001b[38;5;28;01mdef\u001b[39;00m \u001b[38;5;21minner\u001b[39m(ax, \u001b[38;5;241m*\u001b[39margs, data\u001b[38;5;241m=\u001b[39m\u001b[38;5;28;01mNone\u001b[39;00m, \u001b[38;5;241m*\u001b[39m\u001b[38;5;241m*\u001b[39mkwargs):\n\u001b[0;32m   1477\u001b[0m     \u001b[38;5;28;01mif\u001b[39;00m data \u001b[38;5;129;01mis\u001b[39;00m \u001b[38;5;28;01mNone\u001b[39;00m:\n\u001b[1;32m-> 1478\u001b[0m         \u001b[38;5;28;01mreturn\u001b[39;00m \u001b[43mfunc\u001b[49m\u001b[43m(\u001b[49m\u001b[43max\u001b[49m\u001b[43m,\u001b[49m\u001b[43m \u001b[49m\u001b[38;5;241;43m*\u001b[39;49m\u001b[38;5;28;43mmap\u001b[39;49m\u001b[43m(\u001b[49m\u001b[43msanitize_sequence\u001b[49m\u001b[43m,\u001b[49m\u001b[43m \u001b[49m\u001b[43margs\u001b[49m\u001b[43m)\u001b[49m\u001b[43m,\u001b[49m\u001b[43m \u001b[49m\u001b[38;5;241;43m*\u001b[39;49m\u001b[38;5;241;43m*\u001b[39;49m\u001b[43mkwargs\u001b[49m\u001b[43m)\u001b[49m\n\u001b[0;32m   1480\u001b[0m     bound \u001b[38;5;241m=\u001b[39m new_sig\u001b[38;5;241m.\u001b[39mbind(ax, \u001b[38;5;241m*\u001b[39margs, \u001b[38;5;241m*\u001b[39m\u001b[38;5;241m*\u001b[39mkwargs)\n\u001b[0;32m   1481\u001b[0m     auto_label \u001b[38;5;241m=\u001b[39m (bound\u001b[38;5;241m.\u001b[39marguments\u001b[38;5;241m.\u001b[39mget(label_namer)\n\u001b[0;32m   1482\u001b[0m                   \u001b[38;5;129;01mor\u001b[39;00m bound\u001b[38;5;241m.\u001b[39mkwargs\u001b[38;5;241m.\u001b[39mget(label_namer))\n",
      "File \u001b[1;32mc:\\Users\\LENOVO-PC\\AppData\\Local\\Programs\\Python\\Python311\\Lib\\site-packages\\matplotlib\\axes\\_axes.py:2520\u001b[0m, in \u001b[0;36mAxes.bar\u001b[1;34m(self, x, height, width, bottom, align, **kwargs)\u001b[0m\n\u001b[0;32m   2517\u001b[0m args \u001b[38;5;241m=\u001b[39m \u001b[38;5;28mzip\u001b[39m(left, bottom, width, height, color, edgecolor, linewidth,\n\u001b[0;32m   2518\u001b[0m            hatch, patch_labels)\n\u001b[0;32m   2519\u001b[0m \u001b[38;5;28;01mfor\u001b[39;00m l, b, w, h, c, e, lw, htch, lbl \u001b[38;5;129;01min\u001b[39;00m args:\n\u001b[1;32m-> 2520\u001b[0m     r \u001b[38;5;241m=\u001b[39m \u001b[43mmpatches\u001b[49m\u001b[38;5;241;43m.\u001b[39;49m\u001b[43mRectangle\u001b[49m\u001b[43m(\u001b[49m\n\u001b[0;32m   2521\u001b[0m \u001b[43m        \u001b[49m\u001b[43mxy\u001b[49m\u001b[38;5;241;43m=\u001b[39;49m\u001b[43m(\u001b[49m\u001b[43ml\u001b[49m\u001b[43m,\u001b[49m\u001b[43m \u001b[49m\u001b[43mb\u001b[49m\u001b[43m)\u001b[49m\u001b[43m,\u001b[49m\u001b[43m \u001b[49m\u001b[43mwidth\u001b[49m\u001b[38;5;241;43m=\u001b[39;49m\u001b[43mw\u001b[49m\u001b[43m,\u001b[49m\u001b[43m \u001b[49m\u001b[43mheight\u001b[49m\u001b[38;5;241;43m=\u001b[39;49m\u001b[43mh\u001b[49m\u001b[43m,\u001b[49m\n\u001b[0;32m   2522\u001b[0m \u001b[43m        \u001b[49m\u001b[43mfacecolor\u001b[49m\u001b[38;5;241;43m=\u001b[39;49m\u001b[43mc\u001b[49m\u001b[43m,\u001b[49m\n\u001b[0;32m   2523\u001b[0m \u001b[43m        \u001b[49m\u001b[43medgecolor\u001b[49m\u001b[38;5;241;43m=\u001b[39;49m\u001b[43me\u001b[49m\u001b[43m,\u001b[49m\n\u001b[0;32m   2524\u001b[0m \u001b[43m        \u001b[49m\u001b[43mlinewidth\u001b[49m\u001b[38;5;241;43m=\u001b[39;49m\u001b[43mlw\u001b[49m\u001b[43m,\u001b[49m\n\u001b[0;32m   2525\u001b[0m \u001b[43m        \u001b[49m\u001b[43mlabel\u001b[49m\u001b[38;5;241;43m=\u001b[39;49m\u001b[43mlbl\u001b[49m\u001b[43m,\u001b[49m\n\u001b[0;32m   2526\u001b[0m \u001b[43m        \u001b[49m\u001b[43mhatch\u001b[49m\u001b[38;5;241;43m=\u001b[39;49m\u001b[43mhtch\u001b[49m\u001b[43m,\u001b[49m\n\u001b[0;32m   2527\u001b[0m \u001b[43m        \u001b[49m\u001b[43m)\u001b[49m\n\u001b[0;32m   2528\u001b[0m     r\u001b[38;5;241m.\u001b[39m_internal_update(kwargs)\n\u001b[0;32m   2529\u001b[0m     r\u001b[38;5;241m.\u001b[39mget_path()\u001b[38;5;241m.\u001b[39m_interpolation_steps \u001b[38;5;241m=\u001b[39m \u001b[38;5;241m100\u001b[39m\n",
      "File \u001b[1;32mc:\\Users\\LENOVO-PC\\AppData\\Local\\Programs\\Python\\Python311\\Lib\\site-packages\\matplotlib\\patches.py:718\u001b[0m, in \u001b[0;36mRectangle.__init__\u001b[1;34m(self, xy, width, height, angle, rotation_point, **kwargs)\u001b[0m\n\u001b[0;32m    694\u001b[0m \u001b[38;5;129m@_docstring\u001b[39m\u001b[38;5;241m.\u001b[39mdedent_interpd\n\u001b[0;32m    695\u001b[0m \u001b[38;5;28;01mdef\u001b[39;00m \u001b[38;5;21m__init__\u001b[39m(\u001b[38;5;28mself\u001b[39m, xy, width, height, \u001b[38;5;241m*\u001b[39m,\n\u001b[0;32m    696\u001b[0m              angle\u001b[38;5;241m=\u001b[39m\u001b[38;5;241m0.0\u001b[39m, rotation_point\u001b[38;5;241m=\u001b[39m\u001b[38;5;124m'\u001b[39m\u001b[38;5;124mxy\u001b[39m\u001b[38;5;124m'\u001b[39m, \u001b[38;5;241m*\u001b[39m\u001b[38;5;241m*\u001b[39mkwargs):\n\u001b[0;32m    697\u001b[0m \u001b[38;5;250m    \u001b[39m\u001b[38;5;124;03m\"\"\"\u001b[39;00m\n\u001b[0;32m    698\u001b[0m \u001b[38;5;124;03m    Parameters\u001b[39;00m\n\u001b[0;32m    699\u001b[0m \u001b[38;5;124;03m    ----------\u001b[39;00m\n\u001b[1;32m   (...)\u001b[0m\n\u001b[0;32m    716\u001b[0m \u001b[38;5;124;03m        %(Patch:kwdoc)s\u001b[39;00m\n\u001b[0;32m    717\u001b[0m \u001b[38;5;124;03m    \"\"\"\u001b[39;00m\n\u001b[1;32m--> 718\u001b[0m     \u001b[38;5;28;43msuper\u001b[39;49m\u001b[43m(\u001b[49m\u001b[43m)\u001b[49m\u001b[38;5;241;43m.\u001b[39;49m\u001b[38;5;21;43m__init__\u001b[39;49m\u001b[43m(\u001b[49m\u001b[38;5;241;43m*\u001b[39;49m\u001b[38;5;241;43m*\u001b[39;49m\u001b[43mkwargs\u001b[49m\u001b[43m)\u001b[49m\n\u001b[0;32m    719\u001b[0m     \u001b[38;5;28mself\u001b[39m\u001b[38;5;241m.\u001b[39m_x0 \u001b[38;5;241m=\u001b[39m xy[\u001b[38;5;241m0\u001b[39m]\n\u001b[0;32m    720\u001b[0m     \u001b[38;5;28mself\u001b[39m\u001b[38;5;241m.\u001b[39m_y0 \u001b[38;5;241m=\u001b[39m xy[\u001b[38;5;241m1\u001b[39m]\n",
      "File \u001b[1;32mc:\\Users\\LENOVO-PC\\AppData\\Local\\Programs\\Python\\Python311\\Lib\\site-packages\\matplotlib\\patches.py:91\u001b[0m, in \u001b[0;36mPatch.__init__\u001b[1;34m(self, edgecolor, facecolor, color, linewidth, linestyle, antialiased, hatch, fill, capstyle, joinstyle, **kwargs)\u001b[0m\n\u001b[0;32m     88\u001b[0m \u001b[38;5;28mself\u001b[39m\u001b[38;5;241m.\u001b[39m_dash_pattern \u001b[38;5;241m=\u001b[39m (\u001b[38;5;241m0\u001b[39m, \u001b[38;5;28;01mNone\u001b[39;00m)  \u001b[38;5;66;03m# offset, dash (scaled by linewidth)\u001b[39;00m\n\u001b[0;32m     90\u001b[0m \u001b[38;5;28mself\u001b[39m\u001b[38;5;241m.\u001b[39mset_linestyle(linestyle)\n\u001b[1;32m---> 91\u001b[0m \u001b[38;5;28;43mself\u001b[39;49m\u001b[38;5;241;43m.\u001b[39;49m\u001b[43mset_linewidth\u001b[49m\u001b[43m(\u001b[49m\u001b[43mlinewidth\u001b[49m\u001b[43m)\u001b[49m\n\u001b[0;32m     92\u001b[0m \u001b[38;5;28mself\u001b[39m\u001b[38;5;241m.\u001b[39mset_antialiased(antialiased)\n\u001b[0;32m     93\u001b[0m \u001b[38;5;28mself\u001b[39m\u001b[38;5;241m.\u001b[39mset_hatch(hatch)\n",
      "File \u001b[1;32mc:\\Users\\LENOVO-PC\\AppData\\Local\\Programs\\Python\\Python311\\Lib\\site-packages\\matplotlib\\patches.py:391\u001b[0m, in \u001b[0;36mPatch.set_linewidth\u001b[1;34m(self, w)\u001b[0m\n\u001b[0;32m    389\u001b[0m \u001b[38;5;28;01mif\u001b[39;00m w \u001b[38;5;129;01mis\u001b[39;00m \u001b[38;5;28;01mNone\u001b[39;00m:\n\u001b[0;32m    390\u001b[0m     w \u001b[38;5;241m=\u001b[39m mpl\u001b[38;5;241m.\u001b[39mrcParams[\u001b[38;5;124m'\u001b[39m\u001b[38;5;124mpatch.linewidth\u001b[39m\u001b[38;5;124m'\u001b[39m]\n\u001b[1;32m--> 391\u001b[0m \u001b[38;5;28mself\u001b[39m\u001b[38;5;241m.\u001b[39m_linewidth \u001b[38;5;241m=\u001b[39m \u001b[38;5;28mfloat\u001b[39m(w)\n\u001b[0;32m    392\u001b[0m \u001b[38;5;28mself\u001b[39m\u001b[38;5;241m.\u001b[39m_dash_pattern \u001b[38;5;241m=\u001b[39m mlines\u001b[38;5;241m.\u001b[39m_scale_dashes(\n\u001b[0;32m    393\u001b[0m     \u001b[38;5;241m*\u001b[39m\u001b[38;5;28mself\u001b[39m\u001b[38;5;241m.\u001b[39m_unscaled_dash_pattern, w)\n\u001b[0;32m    394\u001b[0m \u001b[38;5;28mself\u001b[39m\u001b[38;5;241m.\u001b[39mstale \u001b[38;5;241m=\u001b[39m \u001b[38;5;28;01mTrue\u001b[39;00m\n",
      "\u001b[1;31mTypeError\u001b[0m: only length-1 arrays can be converted to Python scalars"
     ]
    },
    {
     "data": {
      "image/png": "[encoded data removed]",
      "text/plain": [
       "<Figure size 640x480 with 1 Axes>"
      ]
     },
     "metadata": {},
     "output_type": "display_data"
    }
   ],
   "source": [
    "Actual, Predicted = predictMultiLinearReg(df)\n",
    "# print(Actual, Predicted)\n",
    "# Create an index array for each data point\n",
    "index = np.arange(len(Actual))\n",
    "\n",
    "# Plotting Actual values\n",
    "plt.bar(index, Actual, color='blue', label='Actual')\n",
    "\n",
    "# Plotting Predicted values\n",
    "plt.bar(index, Predicted, color='orange', label='Predicted')\n",
    "\n",
    "# Adding Labels and Title\n",
    "plt.xlabel('Data Points')\n",
    "plt.ylabel('Values')\n",
    "plt.title('Actual vs Predicted Values')\n",
    "\n",
    "# Adding a Legend\n",
    "plt.legend()\n",
    "\n",
    "# Display the plot\n",
    "plt.show()"
   ]
  }
 ],
 "metadata": {
  "kernelspec": {
   "display_name": "Python 3",
   "language": "python",
   "name": "python3"
  },
  "language_info": {
   "codemirror_mode": {
    "name": "ipython",
    "version": 3
   },
   "file_extension": ".py",
   "mimetype": "text/x-python",
   "name": "python",
   "nbconvert_exporter": "python",
   "pygments_lexer": "ipython3",
   "version": "3.11.5"
  }
 },
 "nbformat": 4,
 "nbformat_minor": 2
}
